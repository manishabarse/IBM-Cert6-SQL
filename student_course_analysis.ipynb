{
 "cells": [
  {
   "cell_type": "code",
   "execution_count": 1,
   "id": "b61ced36",
   "metadata": {},
   "outputs": [],
   "source": [
    "# Import the sqlite3 module\n",
    "import sqlite3\n",
    "\n",
    "# Connect to an in-memory SQLite database\n",
    "conn = sqlite3.connect(':memory:')\n"
   ]
  },
  {
   "cell_type": "markdown",
   "id": "c14e367d",
   "metadata": {},
   "source": [
    "## CREATE TABLE, INSERT INTO, PRIMARY KEY, DATA TYPES (INT, VARCHAR)"
   ]
  },
  {
   "cell_type": "code",
   "execution_count": 2,
   "id": "6407edc6",
   "metadata": {},
   "outputs": [
    {
     "data": {
      "text/plain": [
       "<sqlite3.Cursor at 0x2afbca86030>"
      ]
     },
     "execution_count": 2,
     "metadata": {},
     "output_type": "execute_result"
    }
   ],
   "source": [
    "# Create a table named 'students'\n",
    "conn.execute('''CREATE TABLE students (\n",
    "                id INT PRIMARY KEY,\n",
    "                name VARCHAR(50),\n",
    "                age INT,\n",
    "                grade VARCHAR(2)\n",
    "                )''')\n",
    "\n",
    "# Insert some sample data into 'students'\n",
    "conn.executemany('''INSERT INTO students (id, name, age, grade) VALUES (?, ?, ?, ?)''', [\n",
    "                (1, 'Alice', 20, 'A'),\n",
    "                (2, 'Bob', 22, 'B'),\n",
    "                (3, 'Charlie', 21, 'C'),\n",
    "                (4, 'David', 23, 'B')\n",
    "                ])\n"
   ]
  },
  {
   "cell_type": "code",
   "execution_count": 3,
   "id": "09caf146",
   "metadata": {},
   "outputs": [
    {
     "data": {
      "text/plain": [
       "<sqlite3.Cursor at 0x2afbca86260>"
      ]
     },
     "execution_count": 3,
     "metadata": {},
     "output_type": "execute_result"
    }
   ],
   "source": [
    "# Create a table named 'courses'\n",
    "conn.execute('''CREATE TABLE courses (\n",
    "                id INT PRIMARY KEY,\n",
    "                course_name VARCHAR(50),\n",
    "                instructor VARCHAR(50)\n",
    "                )''')\n",
    "\n",
    "# Insert some sample data into 'courses'\n",
    "conn.executemany('''INSERT INTO courses (id, course_name, instructor) VALUES (?, ?, ?)''', [\n",
    "                (101, 'Mathematics', 'Dr. Smith'),\n",
    "                (102, 'Physics', 'Prof. Johnson'),\n",
    "                (103, 'Biology', 'Dr. Brown')\n",
    "                ])"
   ]
  },
  {
   "cell_type": "markdown",
   "id": "cb6ead4f",
   "metadata": {},
   "source": [
    "## SELECT"
   ]
  },
  {
   "cell_type": "code",
   "execution_count": 4,
   "id": "69d75217",
   "metadata": {},
   "outputs": [
    {
     "name": "stdout",
     "output_type": "stream",
     "text": [
      "All students:\n",
      "(1, 'Alice', 20, 'A')\n",
      "(2, 'Bob', 22, 'B')\n",
      "(3, 'Charlie', 21, 'C')\n",
      "(4, 'David', 23, 'B')\n"
     ]
    }
   ],
   "source": [
    "# Select all students\n",
    "cursor = conn.execute('''SELECT * FROM students''')\n",
    "print(\"All students:\")\n",
    "for row in cursor:\n",
    "    print(row)"
   ]
  },
  {
   "cell_type": "markdown",
   "id": "cd9c3dc3",
   "metadata": {},
   "source": [
    "## WHERE"
   ]
  },
  {
   "cell_type": "code",
   "execution_count": 5,
   "id": "f931ecdd",
   "metadata": {},
   "outputs": [
    {
     "name": "stdout",
     "output_type": "stream",
     "text": [
      "\n",
      "Students aged 20 or older:\n",
      "(1, 'Alice', 20, 'A')\n",
      "(2, 'Bob', 22, 'B')\n",
      "(3, 'Charlie', 21, 'C')\n",
      "(4, 'David', 23, 'B')\n"
     ]
    }
   ],
   "source": [
    "# Select students aged 20 or older\n",
    "cursor = conn.execute('''SELECT * FROM students WHERE age >= 20''')\n",
    "print(\"\\nStudents aged 20 or older:\")\n",
    "for row in cursor:\n",
    "    print(row)"
   ]
  },
  {
   "cell_type": "code",
   "execution_count": 6,
   "id": "b101b2ab",
   "metadata": {},
   "outputs": [
    {
     "name": "stdout",
     "output_type": "stream",
     "text": [
      "\n",
      "Students in grade 'B':\n",
      "(2, 'Bob', 22, 'B')\n",
      "(4, 'David', 23, 'B')\n"
     ]
    }
   ],
   "source": [
    "# Select students in grade 'B'\n",
    "cursor = conn.execute('''SELECT * FROM students WHERE grade = 'B' ''')\n",
    "print(\"\\nStudents in grade 'B':\")\n",
    "for row in cursor:\n",
    "    print(row)"
   ]
  },
  {
   "cell_type": "code",
   "execution_count": 7,
   "id": "22ff9a2f",
   "metadata": {},
   "outputs": [
    {
     "name": "stdout",
     "output_type": "stream",
     "text": [
      "\n",
      "Courses taught by Dr. Brown:\n",
      "(103, 'Biology', 'Dr. Brown')\n"
     ]
    }
   ],
   "source": [
    "# Select courses taught by Dr. Brown\n",
    "cursor = conn.execute('''SELECT * FROM courses WHERE instructor = 'Dr. Brown' ''')\n",
    "print(\"\\nCourses taught by Dr. Brown:\")\n",
    "for row in cursor:\n",
    "    print(row)"
   ]
  },
  {
   "cell_type": "code",
   "execution_count": 8,
   "id": "23a7d7e9",
   "metadata": {},
   "outputs": [
    {
     "name": "stdout",
     "output_type": "stream",
     "text": [
      "\n",
      "Students named 'Bob':\n",
      "(2, 'Bob', 22, 'B')\n"
     ]
    }
   ],
   "source": [
    "# Select students named 'Bob'\n",
    "cursor = conn.execute('''SELECT * FROM students WHERE name = 'Bob' ''')\n",
    "print(\"\\nStudents named 'Bob':\")\n",
    "for row in cursor:\n",
    "    print(row)"
   ]
  },
  {
   "cell_type": "markdown",
   "id": "ebeaff21",
   "metadata": {},
   "source": [
    "## OR"
   ]
  },
  {
   "cell_type": "code",
   "execution_count": 9,
   "id": "ba482dd7",
   "metadata": {},
   "outputs": [
    {
     "name": "stdout",
     "output_type": "stream",
     "text": [
      "\n",
      "Students younger than 22 or in grade 'A':\n",
      "(1, 'Alice', 20, 'A')\n",
      "(3, 'Charlie', 21, 'C')\n"
     ]
    }
   ],
   "source": [
    "# Select students younger than 22 or in grade 'A'\n",
    "cursor = conn.execute('''SELECT * FROM students WHERE age < 22 OR grade = 'A' ''')\n",
    "print(\"\\nStudents younger than 22 or in grade 'A':\")\n",
    "for row in cursor:\n",
    "    print(row)"
   ]
  },
  {
   "cell_type": "markdown",
   "id": "bc039064",
   "metadata": {},
   "source": [
    "## AND, BETWEEN, NOT"
   ]
  },
  {
   "cell_type": "code",
   "execution_count": 10,
   "id": "e37bdf58",
   "metadata": {},
   "outputs": [
    {
     "name": "stdout",
     "output_type": "stream",
     "text": [
      "\n",
      "Students whose age is not between 20 and 22:\n",
      "(4, 'David', 23, 'B')\n"
     ]
    }
   ],
   "source": [
    "# Select students whose age is not between 20 and 22\n",
    "cursor = conn.execute('''SELECT * FROM students WHERE age NOT BETWEEN 20 AND 22''')\n",
    "print(\"\\nStudents whose age is not between 20 and 22:\")\n",
    "for row in cursor:\n",
    "    print(row)\n"
   ]
  },
  {
   "cell_type": "markdown",
   "id": "2b7fd5ac",
   "metadata": {},
   "source": [
    "## IN"
   ]
  },
  {
   "cell_type": "code",
   "execution_count": 11,
   "id": "994e121b",
   "metadata": {},
   "outputs": [
    {
     "name": "stdout",
     "output_type": "stream",
     "text": [
      "\n",
      "Students in grade 'A' or 'B':\n",
      "(1, 'Alice', 20, 'A')\n",
      "(2, 'Bob', 22, 'B')\n",
      "(4, 'David', 23, 'B')\n"
     ]
    }
   ],
   "source": [
    "# Select students in grade 'A' or 'B'\n",
    "cursor = conn.execute('''SELECT * FROM students WHERE grade IN ('A', 'B')''')\n",
    "print(\"\\nStudents in grade 'A' or 'B':\")\n",
    "for row in cursor:\n",
    "    print(row)"
   ]
  },
  {
   "cell_type": "markdown",
   "id": "8496f034",
   "metadata": {},
   "source": [
    "## LIKE"
   ]
  },
  {
   "cell_type": "code",
   "execution_count": 12,
   "id": "c7217818",
   "metadata": {},
   "outputs": [
    {
     "name": "stdout",
     "output_type": "stream",
     "text": [
      "\n",
      "Courses with names containing 'Phys':\n",
      "(102, 'Physics', 'Prof. Johnson')\n"
     ]
    }
   ],
   "source": [
    "# Select courses with names containing 'Phys'\n",
    "cursor = conn.execute('''SELECT * FROM courses WHERE course_name LIKE '%Phys%' ''')\n",
    "print(\"\\nCourses with names containing 'Phys':\")\n",
    "for row in cursor:\n",
    "    print(row)"
   ]
  },
  {
   "cell_type": "code",
   "execution_count": 13,
   "id": "7df1a372",
   "metadata": {},
   "outputs": [
    {
     "name": "stdout",
     "output_type": "stream",
     "text": [
      "\n",
      "Students with names starting with 'A':\n",
      "(1, 'Alice', 20, 'A')\n"
     ]
    }
   ],
   "source": [
    "# Select students with names starting with 'A'\n",
    "cursor = conn.execute('''SELECT * FROM students WHERE name LIKE 'A%' ''')\n",
    "print(\"\\nStudents with names starting with 'A':\")\n",
    "for row in cursor:\n",
    "    print(row)"
   ]
  },
  {
   "cell_type": "code",
   "execution_count": 14,
   "id": "75ad0a7c",
   "metadata": {},
   "outputs": [
    {
     "name": "stdout",
     "output_type": "stream",
     "text": [
      "\n",
      "Students with names containing 'a' (case-insensitive):\n",
      "(1, 'Alice', 20, 'A')\n",
      "(3, 'Charlie', 21, 'C')\n",
      "(4, 'David', 23, 'B')\n"
     ]
    }
   ],
   "source": [
    "# Select students with names containing 'a' (case-insensitive)\n",
    "cursor = conn.execute('''SELECT * FROM students WHERE name LIKE '%a%' COLLATE NOCASE''') \n",
    "print(\"\\nStudents with names containing 'a' (case-insensitive):\")\n",
    "for row in cursor:\n",
    "    print(row)\n",
    "    \n",
    "## '%a%' matches any string containing 'a' anywhere in the name\n",
    "## 'a%' matches any string starting with 'a'\n",
    "## COLLATE NOCASE ensures case insensetive comparison"
   ]
  },
  {
   "cell_type": "markdown",
   "id": "085291f6",
   "metadata": {},
   "source": [
    "## DISTINCT"
   ]
  },
  {
   "cell_type": "code",
   "execution_count": 15,
   "id": "c6f18631",
   "metadata": {},
   "outputs": [
    {
     "name": "stdout",
     "output_type": "stream",
     "text": [
      "\n",
      "Distinct grades:\n",
      "A\n",
      "B\n",
      "C\n"
     ]
    }
   ],
   "source": [
    "# Select distinct grades\n",
    "cursor = conn.execute('''SELECT DISTINCT grade FROM students''')\n",
    "print(\"\\nDistinct grades:\")\n",
    "for row in cursor:\n",
    "    print(row[0])"
   ]
  },
  {
   "cell_type": "markdown",
   "id": "1435c54f",
   "metadata": {},
   "source": [
    "## COUNT"
   ]
  },
  {
   "cell_type": "code",
   "execution_count": 16,
   "id": "d080dbb1",
   "metadata": {},
   "outputs": [
    {
     "name": "stdout",
     "output_type": "stream",
     "text": [
      "\n",
      "Number of students: 4\n"
     ]
    }
   ],
   "source": [
    "# Count the number of students\n",
    "cursor = conn.execute('''SELECT COUNT(*) FROM students''')\n",
    "num_students = cursor.fetchone()[0]\n",
    "print(\"\\nNumber of students:\", num_students)"
   ]
  },
  {
   "cell_type": "code",
   "execution_count": 17,
   "id": "4e995639",
   "metadata": {},
   "outputs": [
    {
     "name": "stdout",
     "output_type": "stream",
     "text": [
      "\n",
      "Number of distinct instructors: 3\n"
     ]
    }
   ],
   "source": [
    "# Count the number of distinct instructors\n",
    "cursor = conn.execute('''SELECT COUNT(DISTINCT instructor) FROM courses''')\n",
    "num_instructors = cursor.fetchone()[0]\n",
    "print(\"\\nNumber of distinct instructors:\", num_instructors)"
   ]
  },
  {
   "cell_type": "markdown",
   "id": "5253eae0",
   "metadata": {},
   "source": [
    "## ISNULL"
   ]
  },
  {
   "cell_type": "code",
   "execution_count": 18,
   "id": "cdaa9cad",
   "metadata": {},
   "outputs": [
    {
     "name": "stdout",
     "output_type": "stream",
     "text": [
      "\n",
      "Courses with no instructor assigned:\n"
     ]
    }
   ],
   "source": [
    "# Select courses with no instructor assigned\n",
    "cursor = conn.execute('''SELECT * FROM courses WHERE instructor IS NULL''')\n",
    "print(\"\\nCourses with no instructor assigned:\")\n",
    "for row in cursor:\n",
    "    print(row)"
   ]
  },
  {
   "cell_type": "markdown",
   "id": "c508608f",
   "metadata": {},
   "source": [
    "## AVERAGE AVG"
   ]
  },
  {
   "cell_type": "code",
   "execution_count": 19,
   "id": "a87943b2",
   "metadata": {},
   "outputs": [
    {
     "name": "stdout",
     "output_type": "stream",
     "text": [
      "\n",
      "Average age of students: 21.5\n"
     ]
    }
   ],
   "source": [
    "# Calculate the average age of students\n",
    "cursor = conn.execute('''SELECT AVG(age) AS average_age FROM students''')\n",
    "average_age = cursor.fetchone()[0]\n",
    "print(\"\\nAverage age of students:\", average_age)"
   ]
  },
  {
   "cell_type": "markdown",
   "id": "95a84881",
   "metadata": {},
   "source": [
    "## GROUP BY"
   ]
  },
  {
   "cell_type": "code",
   "execution_count": 20,
   "id": "a5385d80",
   "metadata": {},
   "outputs": [
    {
     "name": "stdout",
     "output_type": "stream",
     "text": [
      "\n",
      "Number of students per grade:\n",
      "('A', 1)\n",
      "('B', 2)\n",
      "('C', 1)\n"
     ]
    }
   ],
   "source": [
    "# Find the number of students per grade\n",
    "cursor = conn.execute('''SELECT grade, COUNT(*) AS num_students FROM students GROUP BY grade''')\n",
    "print(\"\\nNumber of students per grade:\")\n",
    "for row in cursor:\n",
    "    print(row)"
   ]
  },
  {
   "cell_type": "code",
   "execution_count": 21,
   "id": "73144f62",
   "metadata": {},
   "outputs": [
    {
     "name": "stdout",
     "output_type": "stream",
     "text": [
      "\n",
      "Average age of students in each grade:\n",
      "('A', 20.0)\n",
      "('B', 22.5)\n",
      "('C', 21.0)\n"
     ]
    }
   ],
   "source": [
    "# Select the average age of students in each grade\n",
    "cursor = conn.execute('''SELECT grade, AVG(age) AS average_age FROM students GROUP BY grade''')\n",
    "print(\"\\nAverage age of students in each grade:\")\n",
    "for row in cursor:\n",
    "    print(row)"
   ]
  },
  {
   "cell_type": "code",
   "execution_count": 22,
   "id": "9cc82ca9",
   "metadata": {},
   "outputs": [
    {
     "name": "stdout",
     "output_type": "stream",
     "text": [
      "\n",
      "Number of distinct instructors and their names:\n",
      "Instructor: Dr. Brown  - Count: 1\n",
      "Instructor: Dr. Smith  - Count: 1\n",
      "Instructor: Prof. Johnson  - Count: 1\n"
     ]
    }
   ],
   "source": [
    "# Count the number of distinct instructors and print their names\n",
    "cursor = conn.execute('''SELECT COUNT(DISTINCT instructor), instructor FROM courses GROUP BY instructor''')\n",
    "print(\"\\nNumber of distinct instructors and their names:\")\n",
    "for row in cursor:\n",
    "    print(\"Instructor:\", row[1], \" - Count:\", row[0])"
   ]
  },
  {
   "cell_type": "markdown",
   "id": "0846f3b0",
   "metadata": {},
   "source": [
    "## UPDATE"
   ]
  },
  {
   "cell_type": "code",
   "execution_count": 23,
   "id": "1216fbf0",
   "metadata": {},
   "outputs": [
    {
     "data": {
      "text/plain": [
       "<sqlite3.Cursor at 0x2afbcaaa500>"
      ]
     },
     "execution_count": 23,
     "metadata": {},
     "output_type": "execute_result"
    }
   ],
   "source": [
    "# Update Alice's grade to 'A+'\n",
    "conn.execute('''UPDATE students SET grade = 'A+' WHERE name = 'Alice' ''')"
   ]
  },
  {
   "cell_type": "markdown",
   "id": "3946da86",
   "metadata": {},
   "source": [
    "## DELETE"
   ]
  },
  {
   "cell_type": "code",
   "execution_count": 24,
   "id": "99c264c2",
   "metadata": {},
   "outputs": [
    {
     "data": {
      "text/plain": [
       "<sqlite3.Cursor at 0x2afbcaaa810>"
      ]
     },
     "execution_count": 24,
     "metadata": {},
     "output_type": "execute_result"
    }
   ],
   "source": [
    "# Delete David's record\n",
    "conn.execute('''DELETE FROM students WHERE name = 'David' ''')"
   ]
  },
  {
   "cell_type": "markdown",
   "id": "65cfb206",
   "metadata": {},
   "source": [
    "## ORDER BY, DESC, LIMIT"
   ]
  },
  {
   "cell_type": "code",
   "execution_count": 25,
   "id": "633f8a94",
   "metadata": {},
   "outputs": [
    {
     "name": "stdout",
     "output_type": "stream",
     "text": [
      "\n",
      "Students sorted by name in descending order:\n",
      "(3, 'Charlie', 21, 'C')\n",
      "(2, 'Bob', 22, 'B')\n",
      "(1, 'Alice', 20, 'A+')\n"
     ]
    }
   ],
   "source": [
    "# Select students sorted by name in descending order\n",
    "cursor = conn.execute('''SELECT * FROM students ORDER BY name DESC''')\n",
    "print(\"\\nStudents sorted by name in descending order:\")\n",
    "for row in cursor:\n",
    "    print(row)"
   ]
  },
  {
   "cell_type": "code",
   "execution_count": 26,
   "id": "4b2a1b03",
   "metadata": {},
   "outputs": [
    {
     "name": "stdout",
     "output_type": "stream",
     "text": [
      "\n",
      "The oldest student:\n",
      "(2, 'Bob', 22, 'B')\n"
     ]
    }
   ],
   "source": [
    "# Select the oldest student\n",
    "cursor = conn.execute('''SELECT * FROM students ORDER BY age DESC LIMIT 1''')\n",
    "print(\"\\nThe oldest student:\")\n",
    "print(cursor.fetchone())"
   ]
  },
  {
   "cell_type": "code",
   "execution_count": 27,
   "id": "a699bfef",
   "metadata": {},
   "outputs": [
    {
     "name": "stdout",
     "output_type": "stream",
     "text": [
      "\n",
      "The top 3 oldest students:\n",
      "(2, 'Bob', 22, 'B')\n",
      "(3, 'Charlie', 21, 'C')\n",
      "(1, 'Alice', 20, 'A+')\n"
     ]
    }
   ],
   "source": [
    "# Select the top 3 oldest students\n",
    "cursor = conn.execute('''SELECT * FROM students ORDER BY age DESC LIMIT 3''')\n",
    "print(\"\\nThe top 3 oldest students:\")\n",
    "for row in cursor:\n",
    "    print(row)"
   ]
  },
  {
   "cell_type": "code",
   "execution_count": 28,
   "id": "02034e12",
   "metadata": {},
   "outputs": [
    {
     "name": "stdout",
     "output_type": "stream",
     "text": [
      "\n",
      "The youngest student:\n",
      "(1, 'Alice', 20, 'A+')\n"
     ]
    }
   ],
   "source": [
    "# Select the youngest student\n",
    "cursor = conn.execute('''SELECT * FROM students ORDER BY age LIMIT 1''')\n",
    "print(\"\\nThe youngest student:\")\n",
    "print(cursor.fetchone())"
   ]
  },
  {
   "cell_type": "code",
   "execution_count": 29,
   "id": "a261e134",
   "metadata": {},
   "outputs": [
    {
     "name": "stdout",
     "output_type": "stream",
     "text": [
      "\n",
      "The course with the longest name:\n",
      "(101, 'Mathematics', 'Dr. Smith')\n"
     ]
    }
   ],
   "source": [
    "# Select the course with the longest name\n",
    "cursor = conn.execute('''SELECT * FROM courses ORDER BY LENGTH(course_name) DESC LIMIT 1''')\n",
    "print(\"\\nThe course with the longest name:\")\n",
    "print(cursor.fetchone())"
   ]
  },
  {
   "cell_type": "code",
   "execution_count": 30,
   "id": "861bcf36",
   "metadata": {},
   "outputs": [
    {
     "name": "stdout",
     "output_type": "stream",
     "text": [
      "\n",
      "Instructor who teaches the most courses: Prof. Johnson - Number of courses: 1\n"
     ]
    }
   ],
   "source": [
    "#Select the instructor who teaches the most courses\n",
    "cursor = conn.execute('''SELECT instructor, COUNT(*) AS num_courses \n",
    "                         FROM courses \n",
    "                         GROUP BY instructor \n",
    "                         ORDER BY COUNT(*) DESC \n",
    "                         LIMIT 1''')\n",
    "most_courses_instructor = cursor.fetchone()\n",
    "print(\"\\nInstructor who teaches the most courses:\", most_courses_instructor[0], \"- Number of courses:\", most_courses_instructor[1])"
   ]
  },
  {
   "cell_type": "code",
   "execution_count": 31,
   "id": "c5f88626",
   "metadata": {},
   "outputs": [
    {
     "name": "stdout",
     "output_type": "stream",
     "text": [
      "\n",
      "Grade with the most students: C - Number of students: 1\n"
     ]
    }
   ],
   "source": [
    "# Select the grade with the most students\n",
    "cursor = conn.execute('''SELECT grade, COUNT(*) AS num_students \n",
    "                         FROM students \n",
    "                         GROUP BY grade \n",
    "                         ORDER BY COUNT(*) DESC \n",
    "                         LIMIT 1''')\n",
    "most_popular_grade = cursor.fetchone()\n",
    "print(\"\\nGrade with the most students:\", most_popular_grade[0], \"- Number of students:\", most_popular_grade[1])"
   ]
  },
  {
   "cell_type": "markdown",
   "id": "c32acb9d",
   "metadata": {},
   "source": [
    "## INNER JOIN"
   ]
  },
  {
   "cell_type": "code",
   "execution_count": 32,
   "id": "6345ac37",
   "metadata": {},
   "outputs": [
    {
     "name": "stdout",
     "output_type": "stream",
     "text": [
      "\n",
      "Students and their courses:\n"
     ]
    }
   ],
   "source": [
    "# Select students and their courses (JOIN)\n",
    "cursor = conn.execute('''SELECT students.name, students.grade, courses.course_name\n",
    "                         FROM students\n",
    "                         INNER JOIN courses ON students.id = courses.id''')\n",
    "print(\"\\nStudents and their courses:\")\n",
    "for row in cursor:\n",
    "    print(row)"
   ]
  },
  {
   "cell_type": "code",
   "execution_count": 33,
   "id": "4a17d236",
   "metadata": {},
   "outputs": [
    {
     "name": "stdout",
     "output_type": "stream",
     "text": [
      "Students and their courses:\n",
      "('Alice', 'A+', 'Mathematics')\n",
      "('Alice', 'A+', 'Physics')\n",
      "('Alice', 'A+', 'Biology')\n",
      "('Bob', 'B', 'Mathematics')\n",
      "('Bob', 'B', 'Physics')\n",
      "('Bob', 'B', 'Biology')\n",
      "('Charlie', 'C', 'Mathematics')\n",
      "('Charlie', 'C', 'Physics')\n",
      "('Charlie', 'C', 'Biology')\n"
     ]
    }
   ],
   "source": [
    "# Select all students and their courses\n",
    "cursor = conn.execute('''SELECT students.name, students.grade, courses.course_name\n",
    "                         FROM students, courses''')\n",
    "\n",
    "# Fetch and print the results\n",
    "print(\"Students and their courses:\")\n",
    "for row in cursor:\n",
    "    print(row)\n"
   ]
  },
  {
   "cell_type": "markdown",
   "id": "44615b68",
   "metadata": {},
   "source": [
    "## LEFT JOIN"
   ]
  },
  {
   "cell_type": "code",
   "execution_count": 34,
   "id": "563bfdc9",
   "metadata": {},
   "outputs": [
    {
     "name": "stdout",
     "output_type": "stream",
     "text": [
      "\n",
      "Courses and their instructors (LEFT JOIN):\n",
      "('Mathematics', 'Dr. Smith', None)\n",
      "('Physics', 'Prof. Johnson', None)\n",
      "('Biology', 'Dr. Brown', None)\n"
     ]
    }
   ],
   "source": [
    "# Select courses and their instructors (LEFT JOIN)\n",
    "cursor = conn.execute('''SELECT courses.course_name, courses.instructor, students.name\n",
    "                         FROM courses\n",
    "                         LEFT JOIN students ON courses.id = students.id''')\n",
    "print(\"\\nCourses and their instructors (LEFT JOIN):\")\n",
    "for row in cursor:\n",
    "    print(row)"
   ]
  },
  {
   "cell_type": "markdown",
   "id": "a460864d",
   "metadata": {},
   "source": [
    "## UNION, UNION ALL"
   ]
  },
  {
   "cell_type": "code",
   "execution_count": 35,
   "id": "b38aa6d0",
   "metadata": {},
   "outputs": [
    {
     "data": {
      "text/plain": [
       "<sqlite3.Cursor at 0x2afbca71730>"
      ]
     },
     "execution_count": 35,
     "metadata": {},
     "output_type": "execute_result"
    }
   ],
   "source": [
    "# Insert some sample data into 'courses' with duplicate entries for Dr. Smith\n",
    "conn.executemany('''INSERT INTO courses (id, course_name, instructor) VALUES (?, ?, ?)''', [\n",
    "                (104, 'Chemistry', 'Dr. Smith'),\n",
    "                (105, 'Biology', 'Dr. Smith'),\n",
    "                (106, 'Physics', 'Dr. Brown'),\n",
    "                (107, 'Chemistry', 'Dr. Smith')  # Duplicate entry for Dr. Smith\n",
    "                ])"
   ]
  },
  {
   "cell_type": "code",
   "execution_count": 36,
   "id": "dfb10b8a",
   "metadata": {},
   "outputs": [
    {
     "name": "stdout",
     "output_type": "stream",
     "text": [
      "\n",
      "Courses taught by Dr. Brown and Dr. Smith (using UNION ALL):\n",
      "('Biology', 'Dr. Brown')\n",
      "('Physics', 'Dr. Brown')\n",
      "('Mathematics', 'Dr. Smith')\n",
      "('Chemistry', 'Dr. Smith')\n",
      "('Biology', 'Dr. Smith')\n",
      "('Chemistry', 'Dr. Smith')\n"
     ]
    }
   ],
   "source": [
    "# Select courses taught by Dr. Brown and Dr. Smith using UNION ALL\n",
    "cursor = conn.execute('''SELECT course_name, instructor FROM courses WHERE instructor = 'Dr. Brown'\n",
    "                        UNION ALL\n",
    "                        SELECT course_name, instructor FROM courses WHERE instructor = 'Dr. Smith' ''')\n",
    "print(\"\\nCourses taught by Dr. Brown and Dr. Smith (using UNION ALL):\")\n",
    "for row in cursor:\n",
    "    print(row)"
   ]
  },
  {
   "cell_type": "code",
   "execution_count": 37,
   "id": "756f5577",
   "metadata": {},
   "outputs": [
    {
     "name": "stdout",
     "output_type": "stream",
     "text": [
      "\n",
      "Courses taught by Dr. Brown and Dr. Smith (using UNION):\n",
      "('Biology', 'Dr. Brown')\n",
      "('Biology', 'Dr. Smith')\n",
      "('Chemistry', 'Dr. Smith')\n",
      "('Mathematics', 'Dr. Smith')\n",
      "('Physics', 'Dr. Brown')\n"
     ]
    }
   ],
   "source": [
    "# Select courses taught by Dr. Brown and Dr. Smith using UNION\n",
    "cursor = conn.execute('''SELECT course_name, instructor FROM courses WHERE instructor = 'Dr. Brown'\n",
    "                        UNION\n",
    "                        SELECT course_name, instructor FROM courses WHERE instructor = 'Dr. Smith' ''')\n",
    "print(\"\\nCourses taught by Dr. Brown and Dr. Smith (using UNION):\")\n",
    "for row in cursor:\n",
    "    print(row)"
   ]
  },
  {
   "cell_type": "code",
   "execution_count": 38,
   "id": "26a5c3de",
   "metadata": {},
   "outputs": [],
   "source": [
    "# Close connection to the database\n",
    "conn.close()"
   ]
  },
  {
   "cell_type": "code",
   "execution_count": null,
   "id": "2d7aea96",
   "metadata": {},
   "outputs": [],
   "source": []
  }
 ],
 "metadata": {
  "kernelspec": {
   "display_name": "Python 3 (ipykernel)",
   "language": "python",
   "name": "python3"
  },
  "language_info": {
   "codemirror_mode": {
    "name": "ipython",
    "version": 3
   },
   "file_extension": ".py",
   "mimetype": "text/x-python",
   "name": "python",
   "nbconvert_exporter": "python",
   "pygments_lexer": "ipython3",
   "version": "3.9.12"
  }
 },
 "nbformat": 4,
 "nbformat_minor": 5
}
